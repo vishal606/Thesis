{
 "cells": [
  {
   "cell_type": "code",
   "execution_count": 1,
   "id": "93dee11d",
   "metadata": {},
   "outputs": [],
   "source": [
    "import pandas as pd\n",
    "import numpy as np\n",
    "import matplotlib.pyplot as plt\n",
    "import tensorflow as tf\n",
    "from sklearn.model_selection import train_test_split\n",
    "from sklearn.ensemble import RandomForestClassifier\n",
    "from sklearn.metrics import accuracy_score"
   ]
  },
  {
   "cell_type": "code",
   "execution_count": 2,
   "id": "01dbe09e",
   "metadata": {},
   "outputs": [],
   "source": [
    "df = pd.read_csv('observedDataset1.csv')"
   ]
  },
  {
   "cell_type": "code",
   "execution_count": 3,
   "id": "71030a47",
   "metadata": {},
   "outputs": [
    {
     "data": {
      "text/html": [
       "<div>\n",
       "<style scoped>\n",
       "    .dataframe tbody tr th:only-of-type {\n",
       "        vertical-align: middle;\n",
       "    }\n",
       "\n",
       "    .dataframe tbody tr th {\n",
       "        vertical-align: top;\n",
       "    }\n",
       "\n",
       "    .dataframe thead th {\n",
       "        text-align: right;\n",
       "    }\n",
       "</style>\n",
       "<table border=\"1\" class=\"dataframe\">\n",
       "  <thead>\n",
       "    <tr style=\"text-align: right;\">\n",
       "      <th></th>\n",
       "      <th>Unnamed: 0</th>\n",
       "      <th>stationID</th>\n",
       "      <th>Days</th>\n",
       "      <th>observedTempMax</th>\n",
       "      <th>observedTempMin</th>\n",
       "      <th>observedHumidity</th>\n",
       "      <th>observedPressure</th>\n",
       "      <th>observedWind</th>\n",
       "      <th>observedRainfallcatagorical</th>\n",
       "    </tr>\n",
       "  </thead>\n",
       "  <tbody>\n",
       "    <tr>\n",
       "      <th>0</th>\n",
       "      <td>0</td>\n",
       "      <td>10120</td>\n",
       "      <td>1</td>\n",
       "      <td>23.182051</td>\n",
       "      <td>10.735897</td>\n",
       "      <td>77.586207</td>\n",
       "      <td>1016.255172</td>\n",
       "      <td>3.968966</td>\n",
       "      <td>0.0</td>\n",
       "    </tr>\n",
       "    <tr>\n",
       "      <th>1</th>\n",
       "      <td>1</td>\n",
       "      <td>10120</td>\n",
       "      <td>2</td>\n",
       "      <td>22.997436</td>\n",
       "      <td>10.738462</td>\n",
       "      <td>78.655172</td>\n",
       "      <td>1016.424138</td>\n",
       "      <td>4.017241</td>\n",
       "      <td>0.0</td>\n",
       "    </tr>\n",
       "    <tr>\n",
       "      <th>2</th>\n",
       "      <td>2</td>\n",
       "      <td>10120</td>\n",
       "      <td>3</td>\n",
       "      <td>22.276923</td>\n",
       "      <td>10.566667</td>\n",
       "      <td>80.551724</td>\n",
       "      <td>1016.227586</td>\n",
       "      <td>4.306897</td>\n",
       "      <td>0.0</td>\n",
       "    </tr>\n",
       "    <tr>\n",
       "      <th>3</th>\n",
       "      <td>3</td>\n",
       "      <td>10120</td>\n",
       "      <td>4</td>\n",
       "      <td>22.115385</td>\n",
       "      <td>10.712821</td>\n",
       "      <td>79.862069</td>\n",
       "      <td>1016.027586</td>\n",
       "      <td>4.234483</td>\n",
       "      <td>1.0</td>\n",
       "    </tr>\n",
       "    <tr>\n",
       "      <th>4</th>\n",
       "      <td>4</td>\n",
       "      <td>10120</td>\n",
       "      <td>5</td>\n",
       "      <td>22.325641</td>\n",
       "      <td>10.274359</td>\n",
       "      <td>79.758621</td>\n",
       "      <td>1015.627586</td>\n",
       "      <td>4.434483</td>\n",
       "      <td>0.0</td>\n",
       "    </tr>\n",
       "  </tbody>\n",
       "</table>\n",
       "</div>"
      ],
      "text/plain": [
       "   Unnamed: 0  stationID  Days  observedTempMax  observedTempMin  \\\n",
       "0           0      10120     1        23.182051        10.735897   \n",
       "1           1      10120     2        22.997436        10.738462   \n",
       "2           2      10120     3        22.276923        10.566667   \n",
       "3           3      10120     4        22.115385        10.712821   \n",
       "4           4      10120     5        22.325641        10.274359   \n",
       "\n",
       "   observedHumidity  observedPressure  observedWind  \\\n",
       "0         77.586207       1016.255172      3.968966   \n",
       "1         78.655172       1016.424138      4.017241   \n",
       "2         80.551724       1016.227586      4.306897   \n",
       "3         79.862069       1016.027586      4.234483   \n",
       "4         79.758621       1015.627586      4.434483   \n",
       "\n",
       "   observedRainfallcatagorical  \n",
       "0                          0.0  \n",
       "1                          0.0  \n",
       "2                          0.0  \n",
       "3                          1.0  \n",
       "4                          0.0  "
      ]
     },
     "execution_count": 3,
     "metadata": {},
     "output_type": "execute_result"
    }
   ],
   "source": [
    "df.head()"
   ]
  },
  {
   "cell_type": "code",
   "execution_count": 4,
   "id": "0c86a81b",
   "metadata": {},
   "outputs": [],
   "source": [
    "df.drop(\"Unnamed: 0\", axis=1, inplace=True)"
   ]
  },
  {
   "cell_type": "code",
   "execution_count": 5,
   "id": "ca6e26f5",
   "metadata": {},
   "outputs": [
    {
     "data": {
      "text/plain": [
       "(12838, 9)"
      ]
     },
     "execution_count": 5,
     "metadata": {},
     "output_type": "execute_result"
    }
   ],
   "source": [
    "df = df.reset_index()\n",
    "df.shape"
   ]
  },
  {
   "cell_type": "code",
   "execution_count": 6,
   "id": "c516d3ad",
   "metadata": {},
   "outputs": [
    {
     "data": {
      "text/plain": [
       "Index(['index', 'stationID', 'Days', 'observedTempMax', 'observedTempMin',\n",
       "       'observedHumidity', 'observedPressure', 'observedWind',\n",
       "       'observedRainfallcatagorical'],\n",
       "      dtype='object')"
      ]
     },
     "execution_count": 6,
     "metadata": {},
     "output_type": "execute_result"
    }
   ],
   "source": [
    "df.columns"
   ]
  },
  {
   "cell_type": "code",
   "execution_count": 7,
   "id": "b2737793",
   "metadata": {},
   "outputs": [
    {
     "data": {
      "text/plain": [
       "1.0    9660\n",
       "0.0    3150\n",
       "Name: observedRainfallcatagorical, dtype: int64"
      ]
     },
     "execution_count": 7,
     "metadata": {},
     "output_type": "execute_result"
    }
   ],
   "source": [
    "df['observedRainfallcatagorical'].value_counts()"
   ]
  },
  {
   "cell_type": "code",
   "execution_count": 8,
   "id": "8b0b1a87",
   "metadata": {},
   "outputs": [],
   "source": [
    "df['observedRainfallcatagorical'].fillna(method='ffill',inplace=True,axis=0)"
   ]
  },
  {
   "cell_type": "code",
   "execution_count": 9,
   "id": "4f0f40c5",
   "metadata": {},
   "outputs": [
    {
     "data": {
      "text/plain": [
       "1.0    9660\n",
       "0.0    3178\n",
       "Name: observedRainfallcatagorical, dtype: int64"
      ]
     },
     "execution_count": 9,
     "metadata": {},
     "output_type": "execute_result"
    }
   ],
   "source": [
    "df['observedRainfallcatagorical'].value_counts()"
   ]
  },
  {
   "cell_type": "code",
   "execution_count": 10,
   "id": "3017036e",
   "metadata": {},
   "outputs": [],
   "source": [
    "df['observedHumidity'].fillna(method='ffill',inplace=True,axis=0)"
   ]
  },
  {
   "cell_type": "code",
   "execution_count": 11,
   "id": "82a16178",
   "metadata": {},
   "outputs": [],
   "source": [
    "df['observedPressure'].fillna(method='ffill',inplace=True,axis=0)"
   ]
  },
  {
   "cell_type": "code",
   "execution_count": 12,
   "id": "39c2dc57",
   "metadata": {},
   "outputs": [],
   "source": [
    "df['observedWind'].fillna(method='ffill',inplace=True,axis=0)"
   ]
  },
  {
   "cell_type": "code",
   "execution_count": 13,
   "id": "edbbb283",
   "metadata": {},
   "outputs": [
    {
     "data": {
      "text/html": [
       "<div>\n",
       "<style scoped>\n",
       "    .dataframe tbody tr th:only-of-type {\n",
       "        vertical-align: middle;\n",
       "    }\n",
       "\n",
       "    .dataframe tbody tr th {\n",
       "        vertical-align: top;\n",
       "    }\n",
       "\n",
       "    .dataframe thead th {\n",
       "        text-align: right;\n",
       "    }\n",
       "</style>\n",
       "<table border=\"1\" class=\"dataframe\">\n",
       "  <thead>\n",
       "    <tr style=\"text-align: right;\">\n",
       "      <th></th>\n",
       "      <th>observedTempMax</th>\n",
       "      <th>observedTempMin</th>\n",
       "      <th>observedHumidity</th>\n",
       "      <th>observedPressure</th>\n",
       "      <th>observedWind</th>\n",
       "    </tr>\n",
       "  </thead>\n",
       "  <tbody>\n",
       "    <tr>\n",
       "      <th>0</th>\n",
       "      <td>23.182051</td>\n",
       "      <td>10.735897</td>\n",
       "      <td>77.586207</td>\n",
       "      <td>1016.255172</td>\n",
       "      <td>3.968966</td>\n",
       "    </tr>\n",
       "    <tr>\n",
       "      <th>1</th>\n",
       "      <td>22.997436</td>\n",
       "      <td>10.738462</td>\n",
       "      <td>78.655172</td>\n",
       "      <td>1016.424138</td>\n",
       "      <td>4.017241</td>\n",
       "    </tr>\n",
       "    <tr>\n",
       "      <th>2</th>\n",
       "      <td>22.276923</td>\n",
       "      <td>10.566667</td>\n",
       "      <td>80.551724</td>\n",
       "      <td>1016.227586</td>\n",
       "      <td>4.306897</td>\n",
       "    </tr>\n",
       "    <tr>\n",
       "      <th>3</th>\n",
       "      <td>22.115385</td>\n",
       "      <td>10.712821</td>\n",
       "      <td>79.862069</td>\n",
       "      <td>1016.027586</td>\n",
       "      <td>4.234483</td>\n",
       "    </tr>\n",
       "    <tr>\n",
       "      <th>4</th>\n",
       "      <td>22.325641</td>\n",
       "      <td>10.274359</td>\n",
       "      <td>79.758621</td>\n",
       "      <td>1015.627586</td>\n",
       "      <td>4.434483</td>\n",
       "    </tr>\n",
       "    <tr>\n",
       "      <th>...</th>\n",
       "      <td>...</td>\n",
       "      <td>...</td>\n",
       "      <td>...</td>\n",
       "      <td>...</td>\n",
       "      <td>...</td>\n",
       "    </tr>\n",
       "    <tr>\n",
       "      <th>12833</th>\n",
       "      <td>26.633333</td>\n",
       "      <td>14.795238</td>\n",
       "      <td>67.000000</td>\n",
       "      <td>1014.000000</td>\n",
       "      <td>2.033333</td>\n",
       "    </tr>\n",
       "    <tr>\n",
       "      <th>12834</th>\n",
       "      <td>27.047619</td>\n",
       "      <td>14.319048</td>\n",
       "      <td>67.000000</td>\n",
       "      <td>1014.000000</td>\n",
       "      <td>2.033333</td>\n",
       "    </tr>\n",
       "    <tr>\n",
       "      <th>12835</th>\n",
       "      <td>27.414286</td>\n",
       "      <td>14.376190</td>\n",
       "      <td>67.000000</td>\n",
       "      <td>1014.000000</td>\n",
       "      <td>2.033333</td>\n",
       "    </tr>\n",
       "    <tr>\n",
       "      <th>12836</th>\n",
       "      <td>27.314286</td>\n",
       "      <td>14.476190</td>\n",
       "      <td>67.000000</td>\n",
       "      <td>1014.000000</td>\n",
       "      <td>2.033333</td>\n",
       "    </tr>\n",
       "    <tr>\n",
       "      <th>12837</th>\n",
       "      <td>26.900000</td>\n",
       "      <td>13.620000</td>\n",
       "      <td>67.000000</td>\n",
       "      <td>1014.000000</td>\n",
       "      <td>2.033333</td>\n",
       "    </tr>\n",
       "  </tbody>\n",
       "</table>\n",
       "<p>12838 rows × 5 columns</p>\n",
       "</div>"
      ],
      "text/plain": [
       "       observedTempMax  observedTempMin  observedHumidity  observedPressure  \\\n",
       "0            23.182051        10.735897         77.586207       1016.255172   \n",
       "1            22.997436        10.738462         78.655172       1016.424138   \n",
       "2            22.276923        10.566667         80.551724       1016.227586   \n",
       "3            22.115385        10.712821         79.862069       1016.027586   \n",
       "4            22.325641        10.274359         79.758621       1015.627586   \n",
       "...                ...              ...               ...               ...   \n",
       "12833        26.633333        14.795238         67.000000       1014.000000   \n",
       "12834        27.047619        14.319048         67.000000       1014.000000   \n",
       "12835        27.414286        14.376190         67.000000       1014.000000   \n",
       "12836        27.314286        14.476190         67.000000       1014.000000   \n",
       "12837        26.900000        13.620000         67.000000       1014.000000   \n",
       "\n",
       "       observedWind  \n",
       "0          3.968966  \n",
       "1          4.017241  \n",
       "2          4.306897  \n",
       "3          4.234483  \n",
       "4          4.434483  \n",
       "...             ...  \n",
       "12833      2.033333  \n",
       "12834      2.033333  \n",
       "12835      2.033333  \n",
       "12836      2.033333  \n",
       "12837      2.033333  \n",
       "\n",
       "[12838 rows x 5 columns]"
      ]
     },
     "execution_count": 13,
     "metadata": {},
     "output_type": "execute_result"
    }
   ],
   "source": [
    "\n",
    "x = df.iloc[:, 3:8] \n",
    "x"
   ]
  },
  {
   "cell_type": "code",
   "execution_count": 14,
   "id": "a287808d",
   "metadata": {},
   "outputs": [
    {
     "data": {
      "text/html": [
       "<div>\n",
       "<style scoped>\n",
       "    .dataframe tbody tr th:only-of-type {\n",
       "        vertical-align: middle;\n",
       "    }\n",
       "\n",
       "    .dataframe tbody tr th {\n",
       "        vertical-align: top;\n",
       "    }\n",
       "\n",
       "    .dataframe thead th {\n",
       "        text-align: right;\n",
       "    }\n",
       "</style>\n",
       "<table border=\"1\" class=\"dataframe\">\n",
       "  <thead>\n",
       "    <tr style=\"text-align: right;\">\n",
       "      <th></th>\n",
       "      <th>observedRainfallcatagorical</th>\n",
       "    </tr>\n",
       "  </thead>\n",
       "  <tbody>\n",
       "    <tr>\n",
       "      <th>0</th>\n",
       "      <td>0.0</td>\n",
       "    </tr>\n",
       "    <tr>\n",
       "      <th>1</th>\n",
       "      <td>0.0</td>\n",
       "    </tr>\n",
       "    <tr>\n",
       "      <th>2</th>\n",
       "      <td>0.0</td>\n",
       "    </tr>\n",
       "    <tr>\n",
       "      <th>3</th>\n",
       "      <td>1.0</td>\n",
       "    </tr>\n",
       "    <tr>\n",
       "      <th>4</th>\n",
       "      <td>0.0</td>\n",
       "    </tr>\n",
       "    <tr>\n",
       "      <th>...</th>\n",
       "      <td>...</td>\n",
       "    </tr>\n",
       "    <tr>\n",
       "      <th>12833</th>\n",
       "      <td>0.0</td>\n",
       "    </tr>\n",
       "    <tr>\n",
       "      <th>12834</th>\n",
       "      <td>0.0</td>\n",
       "    </tr>\n",
       "    <tr>\n",
       "      <th>12835</th>\n",
       "      <td>0.0</td>\n",
       "    </tr>\n",
       "    <tr>\n",
       "      <th>12836</th>\n",
       "      <td>0.0</td>\n",
       "    </tr>\n",
       "    <tr>\n",
       "      <th>12837</th>\n",
       "      <td>0.0</td>\n",
       "    </tr>\n",
       "  </tbody>\n",
       "</table>\n",
       "<p>12838 rows × 1 columns</p>\n",
       "</div>"
      ],
      "text/plain": [
       "       observedRainfallcatagorical\n",
       "0                              0.0\n",
       "1                              0.0\n",
       "2                              0.0\n",
       "3                              1.0\n",
       "4                              0.0\n",
       "...                            ...\n",
       "12833                          0.0\n",
       "12834                          0.0\n",
       "12835                          0.0\n",
       "12836                          0.0\n",
       "12837                          0.0\n",
       "\n",
       "[12838 rows x 1 columns]"
      ]
     },
     "execution_count": 14,
     "metadata": {},
     "output_type": "execute_result"
    }
   ],
   "source": [
    "y=df.iloc[:, 8:]\n",
    "y"
   ]
  },
  {
   "cell_type": "code",
   "execution_count": 15,
   "id": "f731d999",
   "metadata": {},
   "outputs": [
    {
     "data": {
      "text/html": [
       "<div>\n",
       "<style scoped>\n",
       "    .dataframe tbody tr th:only-of-type {\n",
       "        vertical-align: middle;\n",
       "    }\n",
       "\n",
       "    .dataframe tbody tr th {\n",
       "        vertical-align: top;\n",
       "    }\n",
       "\n",
       "    .dataframe thead th {\n",
       "        text-align: right;\n",
       "    }\n",
       "</style>\n",
       "<table border=\"1\" class=\"dataframe\">\n",
       "  <thead>\n",
       "    <tr style=\"text-align: right;\">\n",
       "      <th></th>\n",
       "      <th>observedTempMax</th>\n",
       "      <th>observedTempMin</th>\n",
       "      <th>observedHumidity</th>\n",
       "      <th>observedPressure</th>\n",
       "      <th>observedWind</th>\n",
       "    </tr>\n",
       "  </thead>\n",
       "  <tbody>\n",
       "    <tr>\n",
       "      <th>observedTempMax</th>\n",
       "      <td>1.000000</td>\n",
       "      <td>0.866812</td>\n",
       "      <td>0.221166</td>\n",
       "      <td>-0.634708</td>\n",
       "      <td>0.298645</td>\n",
       "    </tr>\n",
       "    <tr>\n",
       "      <th>observedTempMin</th>\n",
       "      <td>0.866812</td>\n",
       "      <td>1.000000</td>\n",
       "      <td>0.571570</td>\n",
       "      <td>-0.785690</td>\n",
       "      <td>0.286132</td>\n",
       "    </tr>\n",
       "    <tr>\n",
       "      <th>observedHumidity</th>\n",
       "      <td>0.221166</td>\n",
       "      <td>0.571570</td>\n",
       "      <td>1.000000</td>\n",
       "      <td>-0.532134</td>\n",
       "      <td>0.005046</td>\n",
       "    </tr>\n",
       "    <tr>\n",
       "      <th>observedPressure</th>\n",
       "      <td>-0.634708</td>\n",
       "      <td>-0.785690</td>\n",
       "      <td>-0.532134</td>\n",
       "      <td>1.000000</td>\n",
       "      <td>-0.299707</td>\n",
       "    </tr>\n",
       "    <tr>\n",
       "      <th>observedWind</th>\n",
       "      <td>0.298645</td>\n",
       "      <td>0.286132</td>\n",
       "      <td>0.005046</td>\n",
       "      <td>-0.299707</td>\n",
       "      <td>1.000000</td>\n",
       "    </tr>\n",
       "  </tbody>\n",
       "</table>\n",
       "</div>"
      ],
      "text/plain": [
       "                  observedTempMax  observedTempMin  observedHumidity  \\\n",
       "observedTempMax          1.000000         0.866812          0.221166   \n",
       "observedTempMin          0.866812         1.000000          0.571570   \n",
       "observedHumidity         0.221166         0.571570          1.000000   \n",
       "observedPressure        -0.634708        -0.785690         -0.532134   \n",
       "observedWind             0.298645         0.286132          0.005046   \n",
       "\n",
       "                  observedPressure  observedWind  \n",
       "observedTempMax          -0.634708      0.298645  \n",
       "observedTempMin          -0.785690      0.286132  \n",
       "observedHumidity         -0.532134      0.005046  \n",
       "observedPressure          1.000000     -0.299707  \n",
       "observedWind             -0.299707      1.000000  "
      ]
     },
     "execution_count": 15,
     "metadata": {},
     "output_type": "execute_result"
    }
   ],
   "source": [
    "x.corr()"
   ]
  },
  {
   "cell_type": "code",
   "execution_count": 16,
   "id": "633c83e1",
   "metadata": {},
   "outputs": [],
   "source": [
    "x_train,x_test,y_train,y_test = train_test_split(x,y,test_size=0.3,random_state=1)\n"
   ]
  },
  {
   "cell_type": "code",
   "execution_count": 17,
   "id": "cd6a7844",
   "metadata": {},
   "outputs": [
    {
     "data": {
      "text/plain": [
       "(8986, 5)"
      ]
     },
     "execution_count": 17,
     "metadata": {},
     "output_type": "execute_result"
    }
   ],
   "source": [
    "x_train.shape"
   ]
  },
  {
   "cell_type": "code",
   "execution_count": 18,
   "id": "db77d4f8",
   "metadata": {},
   "outputs": [
    {
     "data": {
      "text/plain": [
       "(8986, 1)"
      ]
     },
     "execution_count": 18,
     "metadata": {},
     "output_type": "execute_result"
    }
   ],
   "source": [
    "y_train.shape"
   ]
  },
  {
   "cell_type": "code",
   "execution_count": 19,
   "id": "ebea7e41",
   "metadata": {},
   "outputs": [
    {
     "data": {
      "text/plain": [
       "(3852, 5)"
      ]
     },
     "execution_count": 19,
     "metadata": {},
     "output_type": "execute_result"
    }
   ],
   "source": [
    "x_test.shape"
   ]
  },
  {
   "cell_type": "code",
   "execution_count": 23,
   "id": "a9a078cd",
   "metadata": {},
   "outputs": [
    {
     "name": "stderr",
     "output_type": "stream",
     "text": [
      "<ipython-input-23-1c5c579ef9c9>:2: DataConversionWarning: A column-vector y was passed when a 1d array was expected. Please change the shape of y to (n_samples,), for example using ravel().\n",
      "  h=RF.fit(x_train,y_train)\n"
     ]
    }
   ],
   "source": [
    "RF = RandomForestClassifier(max_depth=32,n_estimators=120,random_state=1)\n",
    "h=RF.fit(x_train,y_train)\n",
    "y_pred = RF.predict(x_test)"
   ]
  },
  {
   "cell_type": "code",
   "execution_count": 24,
   "id": "55ec70f9",
   "metadata": {},
   "outputs": [
    {
     "data": {
      "text/plain": [
       "0.8917445482866043"
      ]
     },
     "execution_count": 24,
     "metadata": {},
     "output_type": "execute_result"
    }
   ],
   "source": [
    "accuracy_score(y_test, y_pred)"
   ]
  },
  {
   "cell_type": "code",
   "execution_count": 25,
   "id": "6e8aa61a",
   "metadata": {},
   "outputs": [
    {
     "data": {
      "text/plain": [
       "array([0.20614132, 0.31080217, 0.11090505, 0.28331368, 0.08883778])"
      ]
     },
     "execution_count": 25,
     "metadata": {},
     "output_type": "execute_result"
    }
   ],
   "source": [
    "RF.feature_importances_"
   ]
  },
  {
   "cell_type": "code",
   "execution_count": 28,
   "id": "4b246004",
   "metadata": {},
   "outputs": [
    {
     "name": "stderr",
     "output_type": "stream",
     "text": [
      "C:\\Users\\shomy\\anaconda3\\envs\\cvpr\\lib\\site-packages\\sklearn\\utils\\validation.py:63: DataConversionWarning: A column-vector y was passed when a 1d array was expected. Please change the shape of y to (n_samples, ), for example using ravel().\n",
      "  return f(*args, **kwargs)\n"
     ]
    }
   ],
   "source": [
    "from sklearn.naive_bayes import GaussianNB\n",
    "\n",
    "nb=GaussianNB()\n",
    "\n",
    "nb.fit(x_train,y_train)\n",
    "\n",
    "y_pred=nb.predict(x_test)"
   ]
  },
  {
   "cell_type": "code",
   "execution_count": 29,
   "id": "3f352533",
   "metadata": {},
   "outputs": [
    {
     "data": {
      "text/plain": [
       "0.8712357217030114"
      ]
     },
     "execution_count": 29,
     "metadata": {},
     "output_type": "execute_result"
    }
   ],
   "source": [
    "from sklearn import metrics\n",
    "\n",
    "metrics.accuracy_score(y_test,y_pred)"
   ]
  },
  {
   "cell_type": "code",
   "execution_count": 31,
   "id": "25870c8a",
   "metadata": {},
   "outputs": [],
   "source": [
    "import seaborn as sns\n",
    "import datetime\n",
    "from sklearn.preprocessing import LabelEncoder\n",
    "from sklearn import preprocessing\n",
    "from sklearn.preprocessing import StandardScaler\n",
    "from sklearn.model_selection import train_test_split\n",
    "import seaborn as sns\n",
    "from keras.layers import Dense, BatchNormalization, Dropout, LSTM\n",
    "from keras.models import Sequential\n",
    "from keras.utils import to_categorical\n",
    "from keras.optimizers import Adam\n",
    "from tensorflow.keras import regularizers\n",
    "from sklearn.metrics import precision_score, recall_score, confusion_matrix, classification_report, accuracy_score, f1_score\n",
    "from keras import callbacks\n",
    "\n",
    "np.random.seed(0)"
   ]
  },
  {
   "cell_type": "code",
   "execution_count": 33,
   "id": "d0a7cd65",
   "metadata": {},
   "outputs": [
    {
     "name": "stdout",
     "output_type": "stream",
     "text": [
      "Epoch 1/150\n",
      "225/225 [==============================] - 0s 2ms/step - loss: 0.6830 - accuracy: 0.7429 - val_loss: 0.6470 - val_accuracy: 0.7553\n",
      "Epoch 2/150\n",
      "225/225 [==============================] - 0s 1ms/step - loss: 0.6057 - accuracy: 0.7507 - val_loss: 0.5673 - val_accuracy: 0.7553\n",
      "Epoch 3/150\n",
      "225/225 [==============================] - 0s 1ms/step - loss: 0.5932 - accuracy: 0.7507 - val_loss: 0.5617 - val_accuracy: 0.7553\n",
      "Epoch 4/150\n",
      "225/225 [==============================] - 0s 968us/step - loss: 0.5912 - accuracy: 0.7507 - val_loss: 0.5633 - val_accuracy: 0.7553\n",
      "Epoch 5/150\n",
      "225/225 [==============================] - 0s 968us/step - loss: 0.5862 - accuracy: 0.7507 - val_loss: 0.5592 - val_accuracy: 0.7553\n",
      "Epoch 6/150\n",
      "225/225 [==============================] - 0s 968us/step - loss: 0.5868 - accuracy: 0.7507 - val_loss: 0.5600 - val_accuracy: 0.7553\n",
      "Epoch 7/150\n",
      "225/225 [==============================] - 0s 963us/step - loss: 0.5844 - accuracy: 0.7507 - val_loss: 0.5591 - val_accuracy: 0.7553\n",
      "Epoch 8/150\n",
      "225/225 [==============================] - 0s 970us/step - loss: 0.5830 - accuracy: 0.7507 - val_loss: 0.5557 - val_accuracy: 0.7553\n",
      "Epoch 9/150\n",
      "225/225 [==============================] - 0s 1ms/step - loss: 0.5766 - accuracy: 0.7507 - val_loss: 0.5553 - val_accuracy: 0.7553\n",
      "Epoch 10/150\n",
      "225/225 [==============================] - 0s 1ms/step - loss: 0.5843 - accuracy: 0.7507 - val_loss: 0.5583 - val_accuracy: 0.7553\n",
      "Epoch 11/150\n",
      "225/225 [==============================] - 0s 967us/step - loss: 0.5780 - accuracy: 0.7507 - val_loss: 0.5562 - val_accuracy: 0.7553\n",
      "Epoch 12/150\n",
      "225/225 [==============================] - 0s 1ms/step - loss: 0.5774 - accuracy: 0.7507 - val_loss: 0.5535 - val_accuracy: 0.7553\n",
      "Epoch 13/150\n",
      "225/225 [==============================] - 0s 1ms/step - loss: 0.5769 - accuracy: 0.7507 - val_loss: 0.5534 - val_accuracy: 0.7553\n",
      "Epoch 14/150\n",
      "225/225 [==============================] - 0s 968us/step - loss: 0.5806 - accuracy: 0.7507 - val_loss: 0.5547 - val_accuracy: 0.7553\n",
      "Epoch 15/150\n",
      "225/225 [==============================] - 0s 1ms/step - loss: 0.5741 - accuracy: 0.7507 - val_loss: 0.5531 - val_accuracy: 0.7553\n",
      "Epoch 16/150\n",
      "225/225 [==============================] - 0s 1ms/step - loss: 0.5767 - accuracy: 0.7507 - val_loss: 0.5514 - val_accuracy: 0.7553\n",
      "Epoch 17/150\n",
      "225/225 [==============================] - 0s 1ms/step - loss: 0.5741 - accuracy: 0.7507 - val_loss: 0.5521 - val_accuracy: 0.7553\n",
      "Epoch 18/150\n",
      "225/225 [==============================] - 0s 1ms/step - loss: 0.5745 - accuracy: 0.7507 - val_loss: 0.5500 - val_accuracy: 0.7553\n",
      "Epoch 19/150\n",
      "225/225 [==============================] - 0s 1ms/step - loss: 0.5699 - accuracy: 0.7507 - val_loss: 0.5499 - val_accuracy: 0.7553\n",
      "Epoch 20/150\n",
      "225/225 [==============================] - 0s 1ms/step - loss: 0.5695 - accuracy: 0.7507 - val_loss: 0.5480 - val_accuracy: 0.7553\n",
      "Epoch 21/150\n",
      "225/225 [==============================] - 0s 1ms/step - loss: 0.5672 - accuracy: 0.7507 - val_loss: 0.5481 - val_accuracy: 0.7553\n",
      "Epoch 22/150\n",
      "225/225 [==============================] - 0s 1ms/step - loss: 0.5682 - accuracy: 0.7507 - val_loss: 0.5454 - val_accuracy: 0.7553\n",
      "Epoch 23/150\n",
      "225/225 [==============================] - 0s 2ms/step - loss: 0.5632 - accuracy: 0.7507 - val_loss: 0.5423 - val_accuracy: 0.7553\n",
      "Epoch 24/150\n",
      "225/225 [==============================] - 0s 1ms/step - loss: 0.5630 - accuracy: 0.7507 - val_loss: 0.5389 - val_accuracy: 0.7553\n",
      "Epoch 25/150\n",
      "225/225 [==============================] - 0s 1ms/step - loss: 0.5566 - accuracy: 0.7507 - val_loss: 0.5344 - val_accuracy: 0.7553\n",
      "Epoch 26/150\n",
      "225/225 [==============================] - 0s 994us/step - loss: 0.5473 - accuracy: 0.7507 - val_loss: 0.5255 - val_accuracy: 0.7553\n",
      "Epoch 27/150\n",
      "225/225 [==============================] - 0s 1ms/step - loss: 0.5340 - accuracy: 0.7507 - val_loss: 0.4954 - val_accuracy: 0.7553\n",
      "Epoch 28/150\n",
      "225/225 [==============================] - 0s 1ms/step - loss: 0.4870 - accuracy: 0.7507 - val_loss: 0.4210 - val_accuracy: 0.7553\n",
      "Epoch 29/150\n",
      "225/225 [==============================] - 0s 1ms/step - loss: 0.4206 - accuracy: 0.7507 - val_loss: 0.3616 - val_accuracy: 0.7553\n",
      "Epoch 30/150\n",
      "225/225 [==============================] - 0s 1ms/step - loss: 0.3868 - accuracy: 0.7507 - val_loss: 0.3393 - val_accuracy: 0.7553\n",
      "Epoch 31/150\n",
      "225/225 [==============================] - 0s 1ms/step - loss: 0.3664 - accuracy: 0.7507 - val_loss: 0.3286 - val_accuracy: 0.7553\n",
      "Epoch 32/150\n",
      "225/225 [==============================] - 0s 934us/step - loss: 0.3569 - accuracy: 0.7507 - val_loss: 0.3208 - val_accuracy: 0.7553\n",
      "Epoch 33/150\n",
      "225/225 [==============================] - 0s 1ms/step - loss: 0.3515 - accuracy: 0.7507 - val_loss: 0.3192 - val_accuracy: 0.7553\n",
      "Epoch 34/150\n",
      "225/225 [==============================] - 0s 1ms/step - loss: 0.3528 - accuracy: 0.7507 - val_loss: 0.3158 - val_accuracy: 0.7553\n",
      "Epoch 35/150\n",
      "225/225 [==============================] - 0s 984us/step - loss: 0.3419 - accuracy: 0.7507 - val_loss: 0.3153 - val_accuracy: 0.7553\n",
      "Epoch 36/150\n",
      "225/225 [==============================] - 0s 1ms/step - loss: 0.3398 - accuracy: 0.7507 - val_loss: 0.3120 - val_accuracy: 0.7553\n",
      "Epoch 37/150\n",
      "225/225 [==============================] - 0s 1ms/step - loss: 0.3427 - accuracy: 0.7507 - val_loss: 0.3094 - val_accuracy: 0.7553\n",
      "Epoch 38/150\n",
      "225/225 [==============================] - 0s 967us/step - loss: 0.3337 - accuracy: 0.7507 - val_loss: 0.3089 - val_accuracy: 0.7553\n",
      "Epoch 39/150\n",
      "225/225 [==============================] - 0s 1ms/step - loss: 0.3339 - accuracy: 0.7507 - val_loss: 0.3082 - val_accuracy: 0.7553\n",
      "Epoch 40/150\n",
      "225/225 [==============================] - 0s 1ms/step - loss: 0.3361 - accuracy: 0.7507 - val_loss: 0.3073 - val_accuracy: 0.7553\n",
      "Epoch 41/150\n",
      "225/225 [==============================] - 0s 1ms/step - loss: 0.3300 - accuracy: 0.7507 - val_loss: 0.3057 - val_accuracy: 0.7553\n",
      "Epoch 42/150\n",
      "225/225 [==============================] - 0s 934us/step - loss: 0.3332 - accuracy: 0.7507 - val_loss: 0.3108 - val_accuracy: 0.7553\n",
      "Epoch 43/150\n",
      "225/225 [==============================] - 0s 1ms/step - loss: 0.3321 - accuracy: 0.7507 - val_loss: 0.3109 - val_accuracy: 0.7553\n",
      "Epoch 44/150\n",
      "225/225 [==============================] - 0s 1ms/step - loss: 0.3321 - accuracy: 0.7507 - val_loss: 0.3138 - val_accuracy: 0.7553\n",
      "Epoch 45/150\n",
      "225/225 [==============================] - 0s 1ms/step - loss: 0.3320 - accuracy: 0.7507 - val_loss: 0.3123 - val_accuracy: 0.7553\n",
      "Epoch 46/150\n",
      "225/225 [==============================] - 0s 1ms/step - loss: 0.3306 - accuracy: 0.7507 - val_loss: 0.3070 - val_accuracy: 0.7553\n",
      "Epoch 47/150\n",
      "225/225 [==============================] - 0s 1ms/step - loss: 0.3260 - accuracy: 0.7507 - val_loss: 0.3083 - val_accuracy: 0.7553\n",
      "Epoch 48/150\n",
      "225/225 [==============================] - 0s 1ms/step - loss: 0.3266 - accuracy: 0.7992 - val_loss: 0.3026 - val_accuracy: 0.8571\n",
      "Epoch 49/150\n",
      "225/225 [==============================] - 0s 2ms/step - loss: 0.3328 - accuracy: 0.8502 - val_loss: 0.3109 - val_accuracy: 0.8637\n",
      "Epoch 50/150\n",
      "225/225 [==============================] - 0s 1ms/step - loss: 0.3233 - accuracy: 0.8527 - val_loss: 0.3046 - val_accuracy: 0.8632\n",
      "Epoch 51/150\n",
      "225/225 [==============================] - 0s 1ms/step - loss: 0.3290 - accuracy: 0.8478 - val_loss: 0.3008 - val_accuracy: 0.8454\n",
      "Epoch 52/150\n",
      "225/225 [==============================] - 0s 1ms/step - loss: 0.3271 - accuracy: 0.8489 - val_loss: 0.3129 - val_accuracy: 0.8643\n",
      "Epoch 53/150\n",
      "225/225 [==============================] - 0s 1ms/step - loss: 0.3297 - accuracy: 0.8509 - val_loss: 0.3002 - val_accuracy: 0.8576\n",
      "Epoch 54/150\n",
      "225/225 [==============================] - 0s 1ms/step - loss: 0.3271 - accuracy: 0.8493 - val_loss: 0.2983 - val_accuracy: 0.8571\n",
      "Epoch 55/150\n",
      "225/225 [==============================] - 0s 1ms/step - loss: 0.3254 - accuracy: 0.8503 - val_loss: 0.2981 - val_accuracy: 0.8571\n",
      "Epoch 56/150\n",
      "225/225 [==============================] - 0s 1ms/step - loss: 0.3304 - accuracy: 0.8507 - val_loss: 0.2979 - val_accuracy: 0.8593\n",
      "Epoch 57/150\n",
      "225/225 [==============================] - 0s 1ms/step - loss: 0.3202 - accuracy: 0.8555 - val_loss: 0.2993 - val_accuracy: 0.8632\n"
     ]
    },
    {
     "name": "stdout",
     "output_type": "stream",
     "text": [
      "Epoch 58/150\n",
      "225/225 [==============================] - 0s 1ms/step - loss: 0.3197 - accuracy: 0.8555 - val_loss: 0.2960 - val_accuracy: 0.8565\n",
      "Epoch 59/150\n",
      "225/225 [==============================] - 0s 1ms/step - loss: 0.3244 - accuracy: 0.8492 - val_loss: 0.2956 - val_accuracy: 0.8560\n",
      "Epoch 60/150\n",
      "225/225 [==============================] - 0s 2ms/step - loss: 0.3259 - accuracy: 0.8472 - val_loss: 0.2954 - val_accuracy: 0.8593\n",
      "Epoch 61/150\n",
      "225/225 [==============================] - 0s 1ms/step - loss: 0.3233 - accuracy: 0.8500 - val_loss: 0.2956 - val_accuracy: 0.8571\n",
      "Epoch 62/150\n",
      "225/225 [==============================] - 0s 1ms/step - loss: 0.3235 - accuracy: 0.8491 - val_loss: 0.2953 - val_accuracy: 0.8565\n",
      "Epoch 63/150\n",
      "225/225 [==============================] - 0s 988us/step - loss: 0.3210 - accuracy: 0.8516 - val_loss: 0.2955 - val_accuracy: 0.8598\n",
      "Epoch 64/150\n",
      "225/225 [==============================] - 0s 972us/step - loss: 0.3211 - accuracy: 0.8500 - val_loss: 0.2951 - val_accuracy: 0.8593\n",
      "Epoch 65/150\n",
      "225/225 [==============================] - 0s 1ms/step - loss: 0.3215 - accuracy: 0.8518 - val_loss: 0.2949 - val_accuracy: 0.8521\n",
      "Epoch 66/150\n",
      "225/225 [==============================] - 0s 1ms/step - loss: 0.3164 - accuracy: 0.8500 - val_loss: 0.2953 - val_accuracy: 0.8621\n",
      "Epoch 67/150\n",
      "225/225 [==============================] - 0s 975us/step - loss: 0.3203 - accuracy: 0.8497 - val_loss: 0.2956 - val_accuracy: 0.8632\n",
      "Epoch 68/150\n",
      "225/225 [==============================] - 0s 1ms/step - loss: 0.3201 - accuracy: 0.8511 - val_loss: 0.2928 - val_accuracy: 0.8587\n",
      "Epoch 69/150\n",
      "225/225 [==============================] - 0s 1ms/step - loss: 0.3146 - accuracy: 0.8542 - val_loss: 0.2934 - val_accuracy: 0.8615\n",
      "Epoch 70/150\n",
      "225/225 [==============================] - 0s 1ms/step - loss: 0.3185 - accuracy: 0.8514 - val_loss: 0.2930 - val_accuracy: 0.8643\n",
      "Epoch 71/150\n",
      "225/225 [==============================] - 0s 976us/step - loss: 0.3196 - accuracy: 0.8557 - val_loss: 0.2905 - val_accuracy: 0.8637\n",
      "Epoch 72/150\n",
      "225/225 [==============================] - 0s 1ms/step - loss: 0.3195 - accuracy: 0.8531 - val_loss: 0.2942 - val_accuracy: 0.8610\n",
      "Epoch 73/150\n",
      "225/225 [==============================] - 0s 972us/step - loss: 0.3157 - accuracy: 0.8525 - val_loss: 0.2917 - val_accuracy: 0.8637\n",
      "Epoch 74/150\n",
      "225/225 [==============================] - 0s 1ms/step - loss: 0.3123 - accuracy: 0.8573 - val_loss: 0.2906 - val_accuracy: 0.8571\n",
      "Epoch 75/150\n",
      "225/225 [==============================] - 0s 986us/step - loss: 0.3179 - accuracy: 0.8534 - val_loss: 0.2896 - val_accuracy: 0.8604\n",
      "Epoch 76/150\n",
      "225/225 [==============================] - 0s 1ms/step - loss: 0.3159 - accuracy: 0.8542 - val_loss: 0.2890 - val_accuracy: 0.8643\n",
      "Epoch 77/150\n",
      "225/225 [==============================] - 0s 1ms/step - loss: 0.3169 - accuracy: 0.8520 - val_loss: 0.2898 - val_accuracy: 0.8632\n",
      "Epoch 78/150\n",
      "225/225 [==============================] - 0s 1ms/step - loss: 0.3176 - accuracy: 0.8523 - val_loss: 0.2995 - val_accuracy: 0.8648\n",
      "Epoch 79/150\n",
      "225/225 [==============================] - 0s 1ms/step - loss: 0.3168 - accuracy: 0.8543 - val_loss: 0.2886 - val_accuracy: 0.8632\n",
      "Epoch 80/150\n",
      "225/225 [==============================] - 0s 1ms/step - loss: 0.3127 - accuracy: 0.8559 - val_loss: 0.2880 - val_accuracy: 0.8632\n",
      "Epoch 81/150\n",
      "225/225 [==============================] - 0s 976us/step - loss: 0.3155 - accuracy: 0.8568 - val_loss: 0.2895 - val_accuracy: 0.8643\n",
      "Epoch 82/150\n",
      "225/225 [==============================] - 0s 1ms/step - loss: 0.3203 - accuracy: 0.8560 - val_loss: 0.2877 - val_accuracy: 0.8626\n",
      "Epoch 83/150\n",
      "225/225 [==============================] - 0s 1ms/step - loss: 0.3147 - accuracy: 0.8563 - val_loss: 0.2891 - val_accuracy: 0.8626\n",
      "Epoch 84/150\n",
      "225/225 [==============================] - 0s 1ms/step - loss: 0.3116 - accuracy: 0.8521 - val_loss: 0.2899 - val_accuracy: 0.8637\n",
      "Epoch 85/150\n",
      "225/225 [==============================] - 0s 1ms/step - loss: 0.3162 - accuracy: 0.8545 - val_loss: 0.2864 - val_accuracy: 0.8626\n",
      "Epoch 86/150\n",
      "225/225 [==============================] - 0s 1ms/step - loss: 0.3161 - accuracy: 0.8521 - val_loss: 0.2866 - val_accuracy: 0.8621\n",
      "Epoch 87/150\n",
      "225/225 [==============================] - 0s 1ms/step - loss: 0.3130 - accuracy: 0.8531 - val_loss: 0.2860 - val_accuracy: 0.8626\n",
      "Epoch 88/150\n",
      "225/225 [==============================] - 0s 1ms/step - loss: 0.3149 - accuracy: 0.8534 - val_loss: 0.2868 - val_accuracy: 0.8626\n",
      "Epoch 89/150\n",
      "225/225 [==============================] - 0s 1ms/step - loss: 0.3148 - accuracy: 0.8563 - val_loss: 0.2856 - val_accuracy: 0.8632\n",
      "Epoch 90/150\n",
      "225/225 [==============================] - 0s 1ms/step - loss: 0.3123 - accuracy: 0.8563 - val_loss: 0.2852 - val_accuracy: 0.8643\n",
      "Epoch 91/150\n",
      "225/225 [==============================] - 0s 1ms/step - loss: 0.3099 - accuracy: 0.8553 - val_loss: 0.2862 - val_accuracy: 0.8621\n",
      "Epoch 92/150\n",
      "225/225 [==============================] - 0s 1ms/step - loss: 0.3131 - accuracy: 0.8528 - val_loss: 0.2844 - val_accuracy: 0.8621\n",
      "Epoch 93/150\n",
      "225/225 [==============================] - 0s 994us/step - loss: 0.3130 - accuracy: 0.8527 - val_loss: 0.2911 - val_accuracy: 0.8560\n",
      "Epoch 94/150\n",
      "225/225 [==============================] - 0s 1ms/step - loss: 0.3130 - accuracy: 0.8518 - val_loss: 0.2844 - val_accuracy: 0.8648\n",
      "Epoch 95/150\n",
      "225/225 [==============================] - 0s 1ms/step - loss: 0.3134 - accuracy: 0.8536 - val_loss: 0.2873 - val_accuracy: 0.8676\n",
      "Epoch 96/150\n",
      "225/225 [==============================] - 0s 1ms/step - loss: 0.3122 - accuracy: 0.8552 - val_loss: 0.2856 - val_accuracy: 0.8643\n",
      "Epoch 97/150\n",
      "225/225 [==============================] - 0s 1ms/step - loss: 0.3135 - accuracy: 0.8535 - val_loss: 0.2843 - val_accuracy: 0.8643\n",
      "Epoch 98/150\n",
      "225/225 [==============================] - 0s 1ms/step - loss: 0.3121 - accuracy: 0.8514 - val_loss: 0.2853 - val_accuracy: 0.8643\n",
      "Epoch 99/150\n",
      "225/225 [==============================] - 0s 1ms/step - loss: 0.3112 - accuracy: 0.8546 - val_loss: 0.2849 - val_accuracy: 0.8643\n",
      "Epoch 100/150\n",
      "225/225 [==============================] - 0s 1ms/step - loss: 0.3099 - accuracy: 0.8503 - val_loss: 0.2843 - val_accuracy: 0.8660\n",
      "Epoch 101/150\n",
      "225/225 [==============================] - 0s 986us/step - loss: 0.3098 - accuracy: 0.8541 - val_loss: 0.2827 - val_accuracy: 0.8626\n",
      "Epoch 102/150\n",
      "225/225 [==============================] - 0s 1ms/step - loss: 0.3171 - accuracy: 0.8524 - val_loss: 0.2887 - val_accuracy: 0.8643\n",
      "Epoch 103/150\n",
      "225/225 [==============================] - 0s 1ms/step - loss: 0.3147 - accuracy: 0.8500 - val_loss: 0.2858 - val_accuracy: 0.8693\n",
      "Epoch 104/150\n",
      "225/225 [==============================] - 0s 1ms/step - loss: 0.3146 - accuracy: 0.8524 - val_loss: 0.2822 - val_accuracy: 0.8621\n",
      "Epoch 105/150\n",
      "225/225 [==============================] - 0s 1ms/step - loss: 0.3085 - accuracy: 0.8531 - val_loss: 0.2828 - val_accuracy: 0.8632\n",
      "Epoch 106/150\n",
      "225/225 [==============================] - 0s 1ms/step - loss: 0.3118 - accuracy: 0.8529 - val_loss: 0.2826 - val_accuracy: 0.8632\n",
      "Epoch 107/150\n",
      "225/225 [==============================] - 0s 1ms/step - loss: 0.3149 - accuracy: 0.8529 - val_loss: 0.2890 - val_accuracy: 0.8648\n",
      "Epoch 108/150\n",
      "225/225 [==============================] - 0s 1ms/step - loss: 0.3126 - accuracy: 0.8541 - val_loss: 0.2844 - val_accuracy: 0.8632\n",
      "Epoch 109/150\n",
      "225/225 [==============================] - 0s 1ms/step - loss: 0.3134 - accuracy: 0.8548 - val_loss: 0.2834 - val_accuracy: 0.8632\n",
      "Epoch 110/150\n",
      "225/225 [==============================] - 0s 1ms/step - loss: 0.3162 - accuracy: 0.8491 - val_loss: 0.2821 - val_accuracy: 0.8660\n",
      "Epoch 111/150\n",
      "225/225 [==============================] - 0s 1ms/step - loss: 0.3127 - accuracy: 0.8513 - val_loss: 0.2839 - val_accuracy: 0.8632\n",
      "Epoch 112/150\n",
      "225/225 [==============================] - 0s 1ms/step - loss: 0.3219 - accuracy: 0.8485 - val_loss: 0.2829 - val_accuracy: 0.8632\n",
      "Epoch 113/150\n",
      "225/225 [==============================] - 0s 1ms/step - loss: 0.3124 - accuracy: 0.8495 - val_loss: 0.2824 - val_accuracy: 0.8610\n",
      "Epoch 114/150\n"
     ]
    },
    {
     "name": "stdout",
     "output_type": "stream",
     "text": [
      "225/225 [==============================] - 0s 1ms/step - loss: 0.3154 - accuracy: 0.8496 - val_loss: 0.2856 - val_accuracy: 0.8637\n",
      "Epoch 115/150\n",
      "225/225 [==============================] - 0s 1ms/step - loss: 0.3152 - accuracy: 0.8541 - val_loss: 0.2818 - val_accuracy: 0.8626\n",
      "Epoch 116/150\n",
      "225/225 [==============================] - 0s 979us/step - loss: 0.3120 - accuracy: 0.8497 - val_loss: 0.2828 - val_accuracy: 0.8643\n",
      "Epoch 117/150\n",
      "225/225 [==============================] - 0s 967us/step - loss: 0.3177 - accuracy: 0.8513 - val_loss: 0.2821 - val_accuracy: 0.8626\n",
      "Epoch 118/150\n",
      "225/225 [==============================] - 0s 943us/step - loss: 0.3113 - accuracy: 0.8523 - val_loss: 0.2814 - val_accuracy: 0.8648\n",
      "Epoch 119/150\n",
      "225/225 [==============================] - 0s 895us/step - loss: 0.3066 - accuracy: 0.8514 - val_loss: 0.2824 - val_accuracy: 0.8626\n",
      "Epoch 120/150\n",
      "225/225 [==============================] - 0s 961us/step - loss: 0.3075 - accuracy: 0.8543 - val_loss: 0.2820 - val_accuracy: 0.8643\n",
      "Epoch 121/150\n",
      "225/225 [==============================] - 0s 935us/step - loss: 0.3141 - accuracy: 0.8541 - val_loss: 0.2867 - val_accuracy: 0.8565\n",
      "Epoch 122/150\n",
      "225/225 [==============================] - 0s 908us/step - loss: 0.3129 - accuracy: 0.8506 - val_loss: 0.2821 - val_accuracy: 0.8626\n",
      "Epoch 123/150\n",
      "225/225 [==============================] - 0s 935us/step - loss: 0.3123 - accuracy: 0.8561 - val_loss: 0.2816 - val_accuracy: 0.8643\n",
      "Epoch 124/150\n",
      "225/225 [==============================] - 0s 904us/step - loss: 0.3086 - accuracy: 0.8549 - val_loss: 0.2833 - val_accuracy: 0.8621\n",
      "Epoch 125/150\n",
      "225/225 [==============================] - 0s 952us/step - loss: 0.3100 - accuracy: 0.8532 - val_loss: 0.2807 - val_accuracy: 0.8660\n",
      "Epoch 126/150\n",
      "225/225 [==============================] - 0s 921us/step - loss: 0.3112 - accuracy: 0.8561 - val_loss: 0.2851 - val_accuracy: 0.8621\n",
      "Epoch 127/150\n",
      "225/225 [==============================] - 0s 922us/step - loss: 0.3151 - accuracy: 0.8525 - val_loss: 0.2830 - val_accuracy: 0.8610\n",
      "Epoch 128/150\n",
      "225/225 [==============================] - 0s 925us/step - loss: 0.3098 - accuracy: 0.8545 - val_loss: 0.2839 - val_accuracy: 0.8593\n",
      "Epoch 129/150\n",
      "225/225 [==============================] - 0s 913us/step - loss: 0.3079 - accuracy: 0.8511 - val_loss: 0.2826 - val_accuracy: 0.8621\n",
      "Epoch 130/150\n",
      "225/225 [==============================] - 0s 952us/step - loss: 0.3118 - accuracy: 0.8516 - val_loss: 0.2811 - val_accuracy: 0.8637\n",
      "Epoch 131/150\n",
      "225/225 [==============================] - 0s 912us/step - loss: 0.3112 - accuracy: 0.8536 - val_loss: 0.2815 - val_accuracy: 0.8626\n",
      "Epoch 132/150\n",
      "225/225 [==============================] - 0s 996us/step - loss: 0.3030 - accuracy: 0.8548 - val_loss: 0.2814 - val_accuracy: 0.8626\n",
      "Epoch 133/150\n",
      "225/225 [==============================] - 0s 968us/step - loss: 0.3092 - accuracy: 0.8484 - val_loss: 0.2833 - val_accuracy: 0.8637\n",
      "Epoch 134/150\n",
      "225/225 [==============================] - 0s 916us/step - loss: 0.3095 - accuracy: 0.8517 - val_loss: 0.2830 - val_accuracy: 0.8621\n",
      "Epoch 135/150\n",
      "225/225 [==============================] - 0s 922us/step - loss: 0.3133 - accuracy: 0.8497 - val_loss: 0.2805 - val_accuracy: 0.8648\n",
      "Epoch 136/150\n",
      "225/225 [==============================] - 0s 934us/step - loss: 0.3125 - accuracy: 0.8511 - val_loss: 0.2811 - val_accuracy: 0.8687\n",
      "Epoch 137/150\n",
      "225/225 [==============================] - 0s 904us/step - loss: 0.3125 - accuracy: 0.8510 - val_loss: 0.2872 - val_accuracy: 0.8660\n",
      "Epoch 138/150\n",
      "225/225 [==============================] - 0s 947us/step - loss: 0.3116 - accuracy: 0.8524 - val_loss: 0.2801 - val_accuracy: 0.8643\n",
      "Epoch 139/150\n",
      "225/225 [==============================] - 0s 942us/step - loss: 0.3046 - accuracy: 0.8566 - val_loss: 0.2820 - val_accuracy: 0.8643\n",
      "Epoch 140/150\n",
      "225/225 [==============================] - 0s 903us/step - loss: 0.3113 - accuracy: 0.8528 - val_loss: 0.2810 - val_accuracy: 0.8621\n",
      "Epoch 141/150\n",
      "225/225 [==============================] - 0s 957us/step - loss: 0.3106 - accuracy: 0.8529 - val_loss: 0.2805 - val_accuracy: 0.8648\n",
      "Epoch 142/150\n",
      "225/225 [==============================] - 0s 929us/step - loss: 0.3087 - accuracy: 0.8521 - val_loss: 0.2907 - val_accuracy: 0.8643\n",
      "Epoch 143/150\n",
      "225/225 [==============================] - 0s 910us/step - loss: 0.3105 - accuracy: 0.8500 - val_loss: 0.2796 - val_accuracy: 0.8632\n",
      "Epoch 144/150\n",
      "225/225 [==============================] - 0s 939us/step - loss: 0.3106 - accuracy: 0.8502 - val_loss: 0.2832 - val_accuracy: 0.8621\n",
      "Epoch 145/150\n",
      "225/225 [==============================] - 0s 900us/step - loss: 0.3076 - accuracy: 0.8532 - val_loss: 0.2795 - val_accuracy: 0.8654\n",
      "Epoch 146/150\n",
      "225/225 [==============================] - 0s 963us/step - loss: 0.3161 - accuracy: 0.8516 - val_loss: 0.2821 - val_accuracy: 0.8637\n",
      "Epoch 147/150\n",
      "225/225 [==============================] - 0s 962us/step - loss: 0.3148 - accuracy: 0.8484 - val_loss: 0.2792 - val_accuracy: 0.8632\n",
      "Epoch 148/150\n",
      "225/225 [==============================] - 0s 963us/step - loss: 0.3133 - accuracy: 0.8517 - val_loss: 0.2842 - val_accuracy: 0.8571\n",
      "Epoch 149/150\n",
      "225/225 [==============================] - 0s 975us/step - loss: 0.3066 - accuracy: 0.8514 - val_loss: 0.2827 - val_accuracy: 0.8671\n",
      "Epoch 150/150\n",
      "225/225 [==============================] - 0s 1ms/step - loss: 0.3119 - accuracy: 0.8536 - val_loss: 0.2822 - val_accuracy: 0.8632\n"
     ]
    }
   ],
   "source": [
    "early_stopping = callbacks.EarlyStopping(\n",
    "    min_delta=0.001, # minimium amount of change to count as an improvement\n",
    "    patience=20, # how many epochs to wait before stopping\n",
    "    restore_best_weights=True,\n",
    ")\n",
    "\n",
    "# Initialising the NN\n",
    "model = Sequential()\n",
    "\n",
    "# layers\n",
    "\n",
    "model.add(Dense(units = 32, kernel_initializer = 'uniform', activation = 'relu', input_dim = 5))\n",
    "model.add(Dense(units = 32, kernel_initializer = 'uniform', activation = 'relu'))\n",
    "model.add(Dense(units = 16, kernel_initializer = 'uniform', activation = 'relu'))\n",
    "model.add(Dropout(0.25))\n",
    "model.add(Dense(units = 8, kernel_initializer = 'uniform', activation = 'relu'))\n",
    "model.add(Dropout(0.5))\n",
    "model.add(Dense(units = 1, kernel_initializer = 'uniform', activation = 'sigmoid'))\n",
    "\n",
    "# Compiling the ANN\n",
    "opt = Adam(learning_rate=0.00009)\n",
    "model.compile(optimizer = opt, loss = 'binary_crossentropy', metrics = ['accuracy'])\n",
    "\n",
    "# Train the ANN\n",
    "history = model.fit(x_train, y_train, batch_size = 32, epochs = 150, callbacks=[early_stopping], validation_split=0.2)"
   ]
  },
  {
   "cell_type": "code",
   "execution_count": 35,
   "id": "70b010ee",
   "metadata": {},
   "outputs": [
    {
     "data": {
      "image/png": "[encoded data removed]",
      "text/plain": [
       "<Figure size 1080x360 with 2 Axes>"
      ]
     },
     "metadata": {
      "needs_background": "light"
     },
     "output_type": "display_data"
    }
   ],
   "source": [
    "h=history\n",
    "plt.figure(figsize=(15,5))\n",
    "plt.subplot(1,2,1)\n",
    "plt.plot(h.history['accuracy'], 'o-', label='train accuracy')\n",
    "plt.plot(h.history['val_accuracy'], 'o-', label = 'validation accuracy')\n",
    "plt.xlabel('Epoch')\n",
    "plt.ylabel('Accuracy')\n",
    "plt.grid(True)\n",
    "plt.legend(loc='lower right')\n",
    "\n",
    "plt.subplot(1,2,2)\n",
    "plt.plot(h.history['loss'], 'o-', label='train loss')\n",
    "plt.plot(h.history['val_loss'], 'o-', label='validation loss')\n",
    "plt.xlabel('Epoch')\n",
    "plt.ylabel('Loss')\n",
    "plt.grid(True)\n",
    "plt.legend(loc='upper right')\n",
    "\n",
    "plt.show()"
   ]
  },
  {
   "cell_type": "code",
   "execution_count": 36,
   "id": "f13e6131",
   "metadata": {},
   "outputs": [
    {
     "name": "stdout",
     "output_type": "stream",
     "text": [
      "121/121 [==============================] - 0s 631us/step - loss: 0.2722 - accuracy: 0.8733\n",
      "\n",
      "Test Accuracy: 0.8733125925064087\n",
      "\n",
      "Test Loss: 0.27216580510139465\n"
     ]
    }
   ],
   "source": [
    "test_loss, test_acc = model.evaluate(x_test, y_test)\n",
    "print('\\nTest Accuracy:', test_acc)\n",
    "print('\\nTest Loss:', test_loss)"
   ]
  },
  {
   "cell_type": "code",
   "execution_count": null,
   "id": "6367de5b",
   "metadata": {},
   "outputs": [],
   "source": []
  }
 ],
 "metadata": {
  "kernelspec": {
   "display_name": "cvpr tf2.3 py3.8",
   "language": "python",
   "name": "cvpr"
  },
  "language_info": {
   "codemirror_mode": {
    "name": "ipython",
    "version": 3
   },
   "file_extension": ".py",
   "mimetype": "text/x-python",
   "name": "python",
   "nbconvert_exporter": "python",
   "pygments_lexer": "ipython3",
   "version": "3.8.10"
  }
 },
 "nbformat": 4,
 "nbformat_minor": 5
}
